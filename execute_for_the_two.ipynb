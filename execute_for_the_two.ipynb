{
 "cells": [
  {
   "cell_type": "markdown",
   "source": [
    "# 第一题代码以及执行结果"
   ],
   "metadata": {
    "collapsed": false,
    "pycharm": {
     "name": "#%% md\n"
    }
   }
  },
  {
   "cell_type": "code",
   "execution_count": 1,
   "outputs": [
    {
     "name": "stdout",
     "output_type": "stream",
     "text": [
      "[1, 2, 3, 4, 5, 6, 7, 8, 9]\n"
     ]
    }
   ],
   "source": [
    "def buble_sort(list):\n",
    "    for i in range(len(list)-1):\n",
    "        for j in range(len(list)-i-1):\n",
    "            if list[j]>list[j+1]:\n",
    "                list[j],list[j+1]=list[j+1],list[j]\n",
    "    return list\n",
    "a = [5,3,2,6,7,8,9,1,4]\n",
    "print(buble_sort(a))\n"
   ],
   "metadata": {
    "collapsed": false,
    "pycharm": {
     "name": "#%%\n"
    }
   }
  },
  {
   "cell_type": "markdown",
   "source": [
    "# 第二题代码以及执行结果\n"
   ],
   "metadata": {
    "collapsed": false,
    "pycharm": {
     "name": "#%% md\n"
    }
   }
  },
  {
   "cell_type": "code",
   "execution_count": 2,
   "outputs": [
    {
     "name": "stdout",
     "output_type": "stream",
     "text": [
      "仅支持整型输入\n",
      "负数的数量：2\n",
      "非负数的平均值：2.5\n"
     ]
    }
   ],
   "source": [
    "# -*- coding: utf-8 -*-\n",
    "# @Time    :2023/6/10 4:40\n",
    "# @Author  :lzh\n",
    "# @File    : question2_input_counter.py\n",
    "# @Software: PyCharm\n",
    "def get_input():\n",
    "    \"\"\"获取用户输入的整数，直到用户输入'q'为止\"\"\"\n",
    "    while True:\n",
    "        num = input(\"请输入一个整数（输入'q'退出）：\")\n",
    "        if num == 'q':\n",
    "            return\n",
    "        try:\n",
    "            yield int(num)\n",
    "        except ValueError:\n",
    "            print(\"仅支持整型输入\")\n",
    "\n",
    "\n",
    "def process_numbers():\n",
    "    \"\"\"统计用户输入的整数\"\"\"\n",
    "    negative_count = 0\n",
    "    non_negative_sum = 0\n",
    "    non_negative_count = 0\n",
    "\n",
    "    for num in get_input():\n",
    "        if num < 0:\n",
    "            negative_count += 1\n",
    "        else:\n",
    "            non_negative_sum += num\n",
    "            non_negative_count += 1\n",
    "\n",
    "    avg = non_negative_sum / non_negative_count if non_negative_count else 0\n",
    "\n",
    "    print(f\"负数的数量：{negative_count}\\n非负数的平均值：{avg}\")\n",
    "\n",
    "\n",
    "if __name__ == '__main__':\n",
    "    process_numbers()\n"
   ],
   "metadata": {
    "collapsed": false,
    "pycharm": {
     "name": "#%%\n"
    }
   }
  }
 ],
 "metadata": {
  "kernelspec": {
   "display_name": "Python 3",
   "language": "python",
   "name": "python3"
  },
  "language_info": {
   "codemirror_mode": {
    "name": "ipython",
    "version": 2
   },
   "file_extension": ".py",
   "mimetype": "text/x-python",
   "name": "python",
   "nbconvert_exporter": "python",
   "pygments_lexer": "ipython2",
   "version": "2.7.6"
  }
 },
 "nbformat": 4,
 "nbformat_minor": 0
}